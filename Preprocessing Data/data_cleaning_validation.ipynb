{
 "cells": [
  {
   "cell_type": "code",
   "id": "initial_id",
   "metadata": {
    "collapsed": true,
    "ExecuteTime": {
     "end_time": "2024-08-25T05:32:22.080766Z",
     "start_time": "2024-08-25T05:32:16.972913Z"
    }
   },
   "source": [
    "import pandas as pd\n",
    "import great_expectations as ge\n",
    "from great_expectations.dataset import PandasDataset"
   ],
   "outputs": [],
   "execution_count": 1
  },
  {
   "metadata": {
    "ExecuteTime": {
     "end_time": "2024-08-25T05:37:52.595249Z",
     "start_time": "2024-08-25T05:37:52.392682Z"
    }
   },
   "cell_type": "code",
   "source": [
    "# load raw dataset\n",
    "raw_df = pd.read_csv(\"fraud_email_.csv\")\n",
    "raw_df.head(5)"
   ],
   "id": "25fe7a50705fb200",
   "outputs": [
    {
     "data": {
      "text/plain": [
       "                                                Text  Class\n",
       "0  Supply Quality China's EXCLUSIVE dimensions at...      1\n",
       "1                         over. SidLet me know. Thx.      0\n",
       "2  Dear Friend,Greetings to you.I wish to accost ...      1\n",
       "3  MR. CHEUNG PUIHANG SENG BANK LTD.DES VOEUX RD....      1\n",
       "4          Not a surprising assessment from Embassy.      0"
      ],
      "text/html": [
       "<div>\n",
       "<style scoped>\n",
       "    .dataframe tbody tr th:only-of-type {\n",
       "        vertical-align: middle;\n",
       "    }\n",
       "\n",
       "    .dataframe tbody tr th {\n",
       "        vertical-align: top;\n",
       "    }\n",
       "\n",
       "    .dataframe thead th {\n",
       "        text-align: right;\n",
       "    }\n",
       "</style>\n",
       "<table border=\"1\" class=\"dataframe\">\n",
       "  <thead>\n",
       "    <tr style=\"text-align: right;\">\n",
       "      <th></th>\n",
       "      <th>Text</th>\n",
       "      <th>Class</th>\n",
       "    </tr>\n",
       "  </thead>\n",
       "  <tbody>\n",
       "    <tr>\n",
       "      <th>0</th>\n",
       "      <td>Supply Quality China's EXCLUSIVE dimensions at...</td>\n",
       "      <td>1</td>\n",
       "    </tr>\n",
       "    <tr>\n",
       "      <th>1</th>\n",
       "      <td>over. SidLet me know. Thx.</td>\n",
       "      <td>0</td>\n",
       "    </tr>\n",
       "    <tr>\n",
       "      <th>2</th>\n",
       "      <td>Dear Friend,Greetings to you.I wish to accost ...</td>\n",
       "      <td>1</td>\n",
       "    </tr>\n",
       "    <tr>\n",
       "      <th>3</th>\n",
       "      <td>MR. CHEUNG PUIHANG SENG BANK LTD.DES VOEUX RD....</td>\n",
       "      <td>1</td>\n",
       "    </tr>\n",
       "    <tr>\n",
       "      <th>4</th>\n",
       "      <td>Not a surprising assessment from Embassy.</td>\n",
       "      <td>0</td>\n",
       "    </tr>\n",
       "  </tbody>\n",
       "</table>\n",
       "</div>"
      ]
     },
     "execution_count": 7,
     "metadata": {},
     "output_type": "execute_result"
    }
   ],
   "execution_count": 7
  },
  {
   "metadata": {},
   "cell_type": "markdown",
   "source": "# 3. Clean Data",
   "id": "744be2ff6346f351"
  },
  {
   "metadata": {
    "ExecuteTime": {
     "end_time": "2024-08-25T05:37:54.662422Z",
     "start_time": "2024-08-25T05:37:54.652107Z"
    }
   },
   "cell_type": "code",
   "source": [
    "# drop missing value\n",
    "dropped_raw = raw_df.dropna(inplace=True)\n",
    "print(\"dropped raw :\", dropped_raw)"
   ],
   "id": "e8ef14c0c63caba",
   "outputs": [
    {
     "name": "stdout",
     "output_type": "stream",
     "text": [
      "dropped raw : None\n"
     ]
    }
   ],
   "execution_count": 8
  },
  {
   "metadata": {
    "ExecuteTime": {
     "end_time": "2024-08-25T05:37:56.361188Z",
     "start_time": "2024-08-25T05:37:56.303523Z"
    }
   },
   "cell_type": "code",
   "source": [
    "# drop duplicated\n",
    "drop_duplicates = raw_df.drop_duplicates(inplace=True)\n",
    "print(\"dropped duplicates :\", drop_duplicates)"
   ],
   "id": "68485b13178a117e",
   "outputs": [
    {
     "name": "stdout",
     "output_type": "stream",
     "text": [
      "dropped duplicates : None\n"
     ]
    }
   ],
   "execution_count": 9
  },
  {
   "metadata": {
    "ExecuteTime": {
     "end_time": "2024-08-25T05:39:05.096699Z",
     "start_time": "2024-08-25T05:39:05.078173Z"
    }
   },
   "cell_type": "code",
   "source": [
    "# remove whitespace\n",
    "removed = raw_df.apply(lambda x: x.str.strip() if x.dtype == \"object\" else x)\n",
    "print(\"whitespace removed :\", removed)"
   ],
   "id": "f7c432e41053198b",
   "outputs": [
    {
     "name": "stdout",
     "output_type": "stream",
     "text": [
      "whitespace removed :                                                     Text  Class\n",
      "0      Supply Quality China's EXCLUSIVE dimensions at...      1\n",
      "1                             over. SidLet me know. Thx.      0\n",
      "2      Dear Friend,Greetings to you.I wish to accost ...      1\n",
      "3      MR. CHEUNG PUIHANG SENG BANK LTD.DES VOEUX RD....      1\n",
      "4              Not a surprising assessment from Embassy.      0\n",
      "...                                                  ...    ...\n",
      "11923  I called and was transferred to room but got n...      0\n",
      "11924  Travel well. I'll look forward to hearing your...      0\n",
      "11926  Follow Up Flag: Follow upFlag Status: FlaggedM...      0\n",
      "11927  sbwhoeop B6Saturday January 23 2010 4:09 PMRe:...      0\n",
      "11928  FYI. We are revising call sheet for call to Ka...      0\n",
      "\n",
      "[10249 rows x 2 columns]\n"
     ]
    }
   ],
   "execution_count": 10
  },
  {
   "metadata": {
    "ExecuteTime": {
     "end_time": "2024-08-25T05:40:18.867730Z",
     "start_time": "2024-08-25T05:40:18.862091Z"
    }
   },
   "cell_type": "code",
   "source": [
    "# rename column\n",
    "raw_df.columns = raw_df.columns.str.lower()"
   ],
   "id": "d3a4b3dcca03418a",
   "outputs": [],
   "execution_count": 11
  },
  {
   "metadata": {},
   "cell_type": "markdown",
   "source": "# 4 Save Cleaned Data",
   "id": "a7b7d5ad35cfb368"
  },
  {
   "metadata": {
    "ExecuteTime": {
     "end_time": "2024-08-25T05:41:28.013875Z",
     "start_time": "2024-08-25T05:41:27.660497Z"
    }
   },
   "cell_type": "code",
   "source": "clean_df = raw_df.to_csv(\"fraud_email_clean.csv\")",
   "id": "4f2547fa3206b368",
   "outputs": [],
   "execution_count": 12
  },
  {
   "metadata": {},
   "cell_type": "markdown",
   "source": "# 5 Validate the Data",
   "id": "f3850e3d844ab37c"
  },
  {
   "metadata": {
    "ExecuteTime": {
     "end_time": "2024-08-25T05:44:02.008511Z",
     "start_time": "2024-08-25T05:44:01.809438Z"
    }
   },
   "cell_type": "code",
   "source": [
    "# read cleaned data\n",
    "df = pd.read_csv('fraud_email_clean.csv')\n",
    "df"
   ],
   "id": "5d7dd570794d579e",
   "outputs": [
    {
     "data": {
      "text/plain": [
       "       Unnamed: 0                                               text  class\n",
       "0               0  Supply Quality China's EXCLUSIVE dimensions at...      1\n",
       "1               1                         over. SidLet me know. Thx.      0\n",
       "2               2  Dear Friend,Greetings to you.I wish to accost ...      1\n",
       "3               3  MR. CHEUNG PUIHANG SENG BANK LTD.DES VOEUX RD....      1\n",
       "4               4          Not a surprising assessment from Embassy.      0\n",
       "...           ...                                                ...    ...\n",
       "10244       11923  I called and was transferred to room but got n...      0\n",
       "10245       11924  Travel well. I'll look forward to hearing your...      0\n",
       "10246       11926  Follow Up Flag: Follow upFlag Status: FlaggedM...      0\n",
       "10247       11927  sbwhoeop B6Saturday January 23 2010 4:09 PMRe:...      0\n",
       "10248       11928  FYI. We are revising call sheet for call to Ka...      0\n",
       "\n",
       "[10249 rows x 3 columns]"
      ],
      "text/html": [
       "<div>\n",
       "<style scoped>\n",
       "    .dataframe tbody tr th:only-of-type {\n",
       "        vertical-align: middle;\n",
       "    }\n",
       "\n",
       "    .dataframe tbody tr th {\n",
       "        vertical-align: top;\n",
       "    }\n",
       "\n",
       "    .dataframe thead th {\n",
       "        text-align: right;\n",
       "    }\n",
       "</style>\n",
       "<table border=\"1\" class=\"dataframe\">\n",
       "  <thead>\n",
       "    <tr style=\"text-align: right;\">\n",
       "      <th></th>\n",
       "      <th>Unnamed: 0</th>\n",
       "      <th>text</th>\n",
       "      <th>class</th>\n",
       "    </tr>\n",
       "  </thead>\n",
       "  <tbody>\n",
       "    <tr>\n",
       "      <th>0</th>\n",
       "      <td>0</td>\n",
       "      <td>Supply Quality China's EXCLUSIVE dimensions at...</td>\n",
       "      <td>1</td>\n",
       "    </tr>\n",
       "    <tr>\n",
       "      <th>1</th>\n",
       "      <td>1</td>\n",
       "      <td>over. SidLet me know. Thx.</td>\n",
       "      <td>0</td>\n",
       "    </tr>\n",
       "    <tr>\n",
       "      <th>2</th>\n",
       "      <td>2</td>\n",
       "      <td>Dear Friend,Greetings to you.I wish to accost ...</td>\n",
       "      <td>1</td>\n",
       "    </tr>\n",
       "    <tr>\n",
       "      <th>3</th>\n",
       "      <td>3</td>\n",
       "      <td>MR. CHEUNG PUIHANG SENG BANK LTD.DES VOEUX RD....</td>\n",
       "      <td>1</td>\n",
       "    </tr>\n",
       "    <tr>\n",
       "      <th>4</th>\n",
       "      <td>4</td>\n",
       "      <td>Not a surprising assessment from Embassy.</td>\n",
       "      <td>0</td>\n",
       "    </tr>\n",
       "    <tr>\n",
       "      <th>...</th>\n",
       "      <td>...</td>\n",
       "      <td>...</td>\n",
       "      <td>...</td>\n",
       "    </tr>\n",
       "    <tr>\n",
       "      <th>10244</th>\n",
       "      <td>11923</td>\n",
       "      <td>I called and was transferred to room but got n...</td>\n",
       "      <td>0</td>\n",
       "    </tr>\n",
       "    <tr>\n",
       "      <th>10245</th>\n",
       "      <td>11924</td>\n",
       "      <td>Travel well. I'll look forward to hearing your...</td>\n",
       "      <td>0</td>\n",
       "    </tr>\n",
       "    <tr>\n",
       "      <th>10246</th>\n",
       "      <td>11926</td>\n",
       "      <td>Follow Up Flag: Follow upFlag Status: FlaggedM...</td>\n",
       "      <td>0</td>\n",
       "    </tr>\n",
       "    <tr>\n",
       "      <th>10247</th>\n",
       "      <td>11927</td>\n",
       "      <td>sbwhoeop B6Saturday January 23 2010 4:09 PMRe:...</td>\n",
       "      <td>0</td>\n",
       "    </tr>\n",
       "    <tr>\n",
       "      <th>10248</th>\n",
       "      <td>11928</td>\n",
       "      <td>FYI. We are revising call sheet for call to Ka...</td>\n",
       "      <td>0</td>\n",
       "    </tr>\n",
       "  </tbody>\n",
       "</table>\n",
       "<p>10249 rows × 3 columns</p>\n",
       "</div>"
      ]
     },
     "execution_count": 14,
     "metadata": {},
     "output_type": "execute_result"
    }
   ],
   "execution_count": 14
  },
  {
   "metadata": {
    "ExecuteTime": {
     "end_time": "2024-08-25T05:44:31.335360Z",
     "start_time": "2024-08-25T05:44:31.330319Z"
    }
   },
   "cell_type": "code",
   "source": [
    "# Create a Great Expectations dataset\n",
    "class CustomDataset(PandasDataset):\n",
    "    # Optionally, define custom expectations or methods here\n",
    "    pass\n",
    "\n",
    "# Instantiate the Great Expectations dataset\n",
    "ge_df = CustomDataset(df)"
   ],
   "id": "94973d7ccddab59a",
   "outputs": [],
   "execution_count": 15
  },
  {
   "metadata": {
    "ExecuteTime": {
     "end_time": "2024-08-25T05:44:38.013697Z",
     "start_time": "2024-08-25T05:44:38.008392Z"
    }
   },
   "cell_type": "code",
   "source": [
    "# convert the pandas dataframe to a great_expectations dataset\n",
    "df_ge = ge.from_pandas(df)"
   ],
   "id": "de8865c2ee926af3",
   "outputs": [],
   "execution_count": 16
  },
  {
   "metadata": {
    "ExecuteTime": {
     "end_time": "2024-08-25T05:44:56.197701Z",
     "start_time": "2024-08-25T05:44:56.178942Z"
    }
   },
   "cell_type": "code",
   "source": [
    "# Expect the unique_id to be unique\n",
    "result_unique = df_ge.expect_column_values_to_be_unique(column=\"text\")\n",
    "result_unique"
   ],
   "id": "f7470915ac16e815",
   "outputs": [
    {
     "data": {
      "text/plain": [
       "{\n",
       "  \"success\": true,\n",
       "  \"result\": {\n",
       "    \"element_count\": 10249,\n",
       "    \"missing_count\": 0,\n",
       "    \"missing_percent\": 0.0,\n",
       "    \"unexpected_count\": 0,\n",
       "    \"unexpected_percent\": 0.0,\n",
       "    \"unexpected_percent_total\": 0.0,\n",
       "    \"unexpected_percent_nonmissing\": 0.0,\n",
       "    \"partial_unexpected_list\": []\n",
       "  },\n",
       "  \"meta\": {},\n",
       "  \"exception_info\": {\n",
       "    \"raised_exception\": false,\n",
       "    \"exception_traceback\": null,\n",
       "    \"exception_message\": null\n",
       "  }\n",
       "}"
      ]
     },
     "execution_count": 17,
     "metadata": {},
     "output_type": "execute_result"
    }
   ],
   "execution_count": 17
  },
  {
   "metadata": {
    "ExecuteTime": {
     "end_time": "2024-08-25T05:46:39.293974Z",
     "start_time": "2024-08-25T05:46:39.285894Z"
    }
   },
   "cell_type": "code",
   "source": [
    "# Expect a column to be of a certain data type\n",
    "result_column_type = df_ge.expect_column_most_common_value_to_be_in_set(column=\"class\", value_set=[0, 1])\n",
    "result_column_type"
   ],
   "id": "aafa01349e25de4a",
   "outputs": [
    {
     "data": {
      "text/plain": [
       "{\n",
       "  \"success\": true,\n",
       "  \"result\": {\n",
       "    \"observed_value\": [\n",
       "      0\n",
       "    ],\n",
       "    \"element_count\": 10249,\n",
       "    \"missing_count\": null,\n",
       "    \"missing_percent\": null\n",
       "  },\n",
       "  \"meta\": {},\n",
       "  \"exception_info\": {\n",
       "    \"raised_exception\": false,\n",
       "    \"exception_traceback\": null,\n",
       "    \"exception_message\": null\n",
       "  }\n",
       "}"
      ]
     },
     "execution_count": 19,
     "metadata": {},
     "output_type": "execute_result"
    }
   ],
   "execution_count": 19
  },
  {
   "metadata": {
    "ExecuteTime": {
     "end_time": "2024-08-25T05:49:03.038323Z",
     "start_time": "2024-08-25T05:49:03.020495Z"
    }
   },
   "cell_type": "code",
   "source": [
    "# Expect a column to be of a certain length\n",
    "result_val_length = df_ge.expect_column_value_lengths_to_be_between(column=\"text\", min_value=5)\n",
    "result_column_type\n",
    "\n",
    "# using min value of 5, in emails at least 5 chars detected to say Hello, or Dear, "
   ],
   "id": "1def190298e86fbb",
   "outputs": [
    {
     "data": {
      "text/plain": [
       "{\n",
       "  \"success\": true,\n",
       "  \"result\": {\n",
       "    \"observed_value\": [\n",
       "      0\n",
       "    ],\n",
       "    \"element_count\": 10249,\n",
       "    \"missing_count\": null,\n",
       "    \"missing_percent\": null\n",
       "  },\n",
       "  \"meta\": {},\n",
       "  \"exception_info\": {\n",
       "    \"raised_exception\": false,\n",
       "    \"exception_traceback\": null,\n",
       "    \"exception_message\": null\n",
       "  }\n",
       "}"
      ]
     },
     "execution_count": 20,
     "metadata": {},
     "output_type": "execute_result"
    }
   ],
   "execution_count": 20
  }
 ],
 "metadata": {
  "kernelspec": {
   "display_name": "Python 3",
   "language": "python",
   "name": "python3"
  },
  "language_info": {
   "codemirror_mode": {
    "name": "ipython",
    "version": 2
   },
   "file_extension": ".py",
   "mimetype": "text/x-python",
   "name": "python",
   "nbconvert_exporter": "python",
   "pygments_lexer": "ipython2",
   "version": "2.7.6"
  }
 },
 "nbformat": 4,
 "nbformat_minor": 5
}
